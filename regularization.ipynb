{
 "cells": [
  {
   "cell_type": "markdown",
   "id": "84073f61-8302-48a9-90a6-b1337bf2009e",
   "metadata": {},
   "source": [
    "# Regularization"
   ]
  },
  {
   "cell_type": "markdown",
   "id": "3ee25f41-c0d7-49dd-8f7e-e8f4a9489809",
   "metadata": {},
   "source": [
    "Regularization is a technique used in machine learning to prevent overfitting and improve the generalization ability of models. When a model is overfitting, it has learned the training data too well and may not perform well on new, unseen data. Regularization introduces additional constraints or penalties to the model during the training process, controlling the complexity of the model and avoiding over-reliance on specific features.\n",
    "\n",
    "Common regularization methods include **L1 (Lasso)**, **L2 (Ridge)**, and **Elastic Net** regularization."
   ]
  },
  {
   "cell_type": "markdown",
   "id": "0948c730-7e88-45cb-8c05-946b8a01c1f9",
   "metadata": {},
   "source": [
    "# L1 Regularization (Lasso)\n",
    "\n",
    "**L1 regularization**, also called Lasso (Least Absolute Shrinkage and Selection Operator), adds the absolute value of the sum of coefficients as a penalty term to the loss function. The penalty term is computed as:\n",
    "$$\\lambda \\sum |w_i|$$\n",
    "\n",
    "Where $w_i$ represents the individual coefficients and $\\lambda$ is the regularization parameter"
   ]
  },
  {
   "cell_type": "markdown",
   "id": "90c57a2a-9203-4cce-98c7-7605b0feae38",
   "metadata": {},
   "source": [
    "# L2 Regularization (Ridge)\n",
    "\n",
    "**L2 regularization**, also called Ridge regression, adds the squared sum of coefficients as the penalty term to the loss function. The penalty term is computed as:\n",
    "$$\\lambda \\sum w_i^2$$\n",
    "\n",
    "Where $w_i$ represents the individual coefficients and $\\lambda$ is the regularization parameter"
   ]
  },
  {
   "cell_type": "markdown",
   "id": "013db422-4521-47c4-ac1c-8ccc6b1752a3",
   "metadata": {},
   "source": [
    "# What this means in practice?\n",
    "\n",
    "Despite similar formulas, the way these penalties work leads to very different behaviors\n",
    "\n",
    "**Lasso** adds a penalty based on the absolute values of coefficients, which can shrink some coefficients exactly to zero, effectively performing feature selection and producing sparse, more interpretable models. It is somewhat less effective with multicollinearity (when two or more features in a dataset are highly correlated, making it hard for the model to understand which one really matters) but more robust to outliers.\n",
    "\n",
    "In contrast, **Ridge** penalizes the squared coefficients, shrinking them towards zero without setting them exactly to zero. This results in dense models where all features remain, better handling multicollinearity but offering less interpretability and being less robust to outliers.\n",
    "\n",
    "**L2** handles multicollinearity better because it shares the importance between similar features instead of choosing just one. **L1** picks only one feature and ignores the others, which can lose useful information and make the model unstable.\n",
    "\n",
    "If there are many features and some of them might be irrelevant or the dataset is simply too high-dimensional, **Lasso** might be a better choice."
   ]
  },
  {
   "cell_type": "markdown",
   "id": "f6053ba7-0451-44bb-a8c4-e1c044a425fd",
   "metadata": {},
   "source": [
    "# Elastic Net Regularization\n",
    "\n",
    "**Elastic Net regularization** is a technique that combines the strengths of both L1 and L2 regularization methods. It's particularly effective for high-dimensional data and problems with multicollinearity, offering a balanced approach that addresses the limitations of using either L1 or L2 alone.\n",
    "The penalty term for Elastic Net is computed as:\n",
    "$$\n",
    "\\lambda_1 \\sum_i |w_i| + \\lambda_2 \\sum_i w_i^2\n",
    "$$\n",
    "**Where:**\n",
    "- $w_i$ represents the individual coefficients\n",
    "- $\\lambda_1$ is the L1 regularization parameter (controlling sparsity)\n",
    "- $\\lambda_2$ is the L2 regularization parameter (controlling shrinkage)\n",
    "\n",
    "**Alternative formula (using a single regularization parameter $\\lambda$):**\n",
    "$$\\lambda \\left[ \\alpha \\sum_i |w_i| + (1 - \\alpha) \\sum_i w_i^2 \\right]$$\n",
    "**Where:**\n",
    "- $\\lambda$ controls the overall strength of regularization\n",
    "- $\\alpha$ determines the balance between L1 and L2 penalties ($0 \\leq \\alpha \\leq 1$)\n",
    "- When $\\alpha = 1$, it becomes pure L1 regularization (Lasso)\n",
    "- When $\\alpha = 0$, it becomes pure L2 regularization (Ridge)"
   ]
  },
  {
   "cell_type": "markdown",
   "id": "63eafada-edee-4a10-8d5d-bdfdccbd264d",
   "metadata": {},
   "source": [
    "# Example"
   ]
  },
  {
   "cell_type": "markdown",
   "id": "940a6800-742b-4190-be7e-c7bc43fdb26a",
   "metadata": {},
   "source": [
    "**Import libraries**"
   ]
  },
  {
   "cell_type": "code",
   "execution_count": 1,
   "id": "d2276b6c-30a4-4492-a26e-91fb9eed2d7d",
   "metadata": {},
   "outputs": [],
   "source": [
    "import numpy as np\n",
    "import matplotlib.pyplot as plt\n",
    "from sklearn.linear_model import LinearRegression, Ridge, Lasso, ElasticNet\n",
    "from sklearn.model_selection import train_test_split\n",
    "from sklearn.metrics import mean_squared_error"
   ]
  },
  {
   "cell_type": "markdown",
   "id": "9b636ce3-f516-4ad3-9585-60d01bca8716",
   "metadata": {},
   "source": [
    "**Data generation**"
   ]
  },
  {
   "cell_type": "code",
   "execution_count": 2,
   "id": "79ad4130-ee51-4d9b-8852-5cb3a8a2dac1",
   "metadata": {},
   "outputs": [
    {
     "name": "stdout",
     "output_type": "stream",
     "text": [
      "Dataset shape: (100, 11)\n",
      "Training set shape: (70, 11)\n",
      "Test set shape: (30, 11)\n"
     ]
    }
   ],
   "source": [
    "# Generate synthetic data\n",
    "np.random.seed(0)\n",
    "X_signal = np.random.randn(100, 1) * 5\n",
    "true_coef = np.array([2.5])\n",
    "y = X_signal.dot(true_coef) + np.random.randn(100) * 2\n",
    "\n",
    "# Add noise features (10 irrelevant predictors)\n",
    "X_noise = np.random.randn(100, 10)\n",
    "X = np.hstack([X_signal, X_noise])\n",
    "\n",
    "# Train-test split\n",
    "X_train, X_test, y_train, y_test = train_test_split(X, y, test_size=0.3, random_state=0)\n",
    "\n",
    "print(\"Dataset shape:\", X.shape)\n",
    "print(\"Training set shape:\", X_train.shape)\n",
    "print(\"Test set shape:\", X_test.shape)"
   ]
  },
  {
   "cell_type": "markdown",
   "id": "ad2969ec-e41d-4c6c-982d-46c966e5cfb7",
   "metadata": {},
   "source": [
    "**Model Definitions**"
   ]
  },
  {
   "cell_type": "code",
   "execution_count": 3,
   "id": "039c19ae-7879-42b6-96b7-a65557f512d7",
   "metadata": {},
   "outputs": [
    {
     "name": "stdout",
     "output_type": "stream",
     "text": [
      "Linear Regression fitted successfully\n",
      "Ridge (L2) fitted successfully\n",
      "Lasso (L1) fitted successfully\n",
      "Elastic Net fitted successfully\n"
     ]
    }
   ],
   "source": [
    "# Define models\n",
    "models = {\n",
    "    'Linear Regression': LinearRegression(),\n",
    "    'Ridge (L2)': Ridge(alpha=1.0),\n",
    "    'Lasso (L1)': Lasso(alpha=0.1),\n",
    "    'Elastic Net': ElasticNet(alpha=0.1, l1_ratio=0.5)\n",
    "}\n",
    "\n",
    "# Train models and collect results\n",
    "coefs, errors = {}, {}\n",
    "for name, model in models.items():\n",
    "    model.fit(X_train, y_train)\n",
    "    y_pred = model.predict(X_test)\n",
    "    coefs[name] = model.coef_\n",
    "    errors[name] = mean_squared_error(y_test, y_pred)\n",
    "    print(f\"{name} fitted successfully\")"
   ]
  },
  {
   "cell_type": "markdown",
   "id": "07d9ff68-d16e-41f5-af6b-467d52bdd4ef",
   "metadata": {},
   "source": [
    "**Coefficients comparison**"
   ]
  },
  {
   "cell_type": "code",
   "execution_count": 4,
   "id": "b369d98a-fd49-4787-bc3e-fa26af8ca56e",
   "metadata": {},
   "outputs": [
    {
     "data": {
      "image/png": "[encoded data removed]",
      "text/plain": [
       "<Figure size 1200x800 with 1 Axes>"
      ]
     },
     "metadata": {},
     "output_type": "display_data"
    }
   ],
   "source": [
    "# Plot coefficients comparison\n",
    "fig, ax = plt.subplots(figsize=(12, 8))\n",
    "\n",
    "# Feature names\n",
    "feature_names = ['Signal'] + [f'Noise_{i}' for i in range(1, 11)]\n",
    "x_pos = np.arange(len(feature_names))\n",
    "\n",
    "# Plot coefficients for each model\n",
    "width = 0.2\n",
    "colors = ['blue', 'red', 'green', 'orange']\n",
    "\n",
    "for i, (name, color) in enumerate(zip(models.keys(), colors)):\n",
    "    offset = (i - 1.5) * width\n",
    "    ax.bar(x_pos + offset, coefs[name], width, label=name, color=color, alpha=0.7)\n",
    "\n",
    "ax.set_xlabel('Features')\n",
    "ax.set_ylabel('Coefficient Value')\n",
    "ax.set_title('Coefficient Comparison Across Regularization Methods')\n",
    "ax.set_xticks(x_pos)\n",
    "ax.set_xticklabels(feature_names, rotation=45)\n",
    "ax.legend()\n",
    "ax.grid(True, alpha=0.3)\n",
    "plt.tight_layout()\n",
    "plt.show()"
   ]
  },
  {
   "cell_type": "code",
   "execution_count": 5,
   "id": "cb2a7733-bd4b-46f4-a0d9-b4d46d73cd8c",
   "metadata": {},
   "outputs": [
    {
     "name": "stdout",
     "output_type": "stream",
     "text": [
      "\n",
      "Mean Squared Errors:\n",
      "------------------------------\n",
      "Linear Regression: 3.3859\n",
      "Ridge (L2): 3.3670\n",
      "Lasso (L1): 3.1221\n",
      "Elastic Net: 3.1836\n"
     ]
    }
   ],
   "source": [
    "# Print prediction errors\n",
    "print(\"\\nMean Squared Errors:\")\n",
    "print(\"-\" * 30)\n",
    "for name, err in errors.items():\n",
    "    print(f\"{name}: {err:.4f}\")"
   ]
  },
  {
   "cell_type": "code",
   "execution_count": 6,
   "id": "171df464-444e-427e-a201-cf5527dc0693",
   "metadata": {},
   "outputs": [
    {
     "name": "stdout",
     "output_type": "stream",
     "text": [
      "\n",
      "Regularization Effects Analysis:\n",
      "----------------------------------------\n",
      "Linear Regression: 11 non-zero coefficients\n",
      "Ridge (L2): 11 non-zero coefficients\n",
      "Lasso (L1): 8 non-zero coefficients\n",
      "Elastic Net: 9 non-zero coefficients\n",
      "\n",
      "Coefficient L2 norms:\n",
      "Linear Regression: 2.6586\n",
      "Ridge (L2): 2.6535\n",
      "Lasso (L1): 2.5955\n",
      "Elastic Net: 2.6087\n"
     ]
    }
   ],
   "source": [
    "# Show regularization effects\n",
    "print(\"\\nRegularization Effects Analysis:\")\n",
    "print(\"-\" * 40)\n",
    "\n",
    "# Count non-zero coefficients\n",
    "for name, coef in coefs.items():\n",
    "    non_zero = np.sum(np.abs(coef) > 1e-6)\n",
    "    print(f\"{name}: {non_zero} non-zero coefficients\")\n",
    "\n",
    "# Show coefficient magnitudes\n",
    "print(\"\\nCoefficient L2 norms:\")\n",
    "for name, coef in coefs.items():\n",
    "    l2_norm = np.linalg.norm(coef)\n",
    "    print(f\"{name}: {l2_norm:.4f}\")"
   ]
  }
 ],
 "metadata": {
  "kernelspec": {
   "display_name": "Python 3 (ipykernel)",
   "language": "python",
   "name": "python3"
  },
  "language_info": {
   "codemirror_mode": {
    "name": "ipython",
    "version": 3
   },
   "file_extension": ".py",
   "mimetype": "text/x-python",
   "name": "python",
   "nbconvert_exporter": "python",
   "pygments_lexer": "ipython3",
   "version": "3.13.2"
  }
 },
 "nbformat": 4,
 "nbformat_minor": 5
}
